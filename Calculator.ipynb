{
 "cells": [
  {
   "cell_type": "code",
   "execution_count": null,
   "id": "5172c8f0",
   "metadata": {},
   "outputs": [],
   "source": [
    "import numpy as np"
   ]
  },
  {
   "cell_type": "code",
   "execution_count": 33,
   "id": "a9ebe505",
   "metadata": {},
   "outputs": [
    {
     "name": "stdout",
     "output_type": "stream",
     "text": [
      "you entered : \n",
      "a :\n",
      "[[1 1]\n",
      " [1 1]] \n",
      " b :\n",
      "[[1 1]\n",
      " [1 1]]\n",
      "\n",
      "result : \n",
      " [[1 1]\n",
      " [1 1]]\n",
      "\n",
      "result : \n",
      " [[1 1]\n",
      " [1 1]]\n"
     ]
    }
   ],
   "source": [
    "try :\n",
    "    mat_a = []\n",
    "    mat_b = []\n",
    "    for i in range(4):\n",
    "        a = int(input(\"enter matrix a : \"))\n",
    "        b = int(input(\"enter b : \"))\n",
    "        mat_a.append(a)\n",
    "        mat_b.append(b)\n",
    "\n",
    "    matrix_a = np.array(mat_a)\n",
    "    matrix_b = np.array(mat_b)\n",
    "    matrix_a = matrix_a.reshape(2,2)\n",
    "    matrix_b = matrix_b.reshape(2,2)\n",
    "except ValueError as e:\n",
    "    print(\"inter number pls\")   \n",
    "\n",
    "else :\n",
    "    print(f\"you entered : \\na :\\n{matrix_a} \\n b :\\n{matrix_b}\")\n",
    "\n",
    "\n",
    "\n",
    "estimator = str(input(\"which kind of calculation u wanna do (+,-,*,/,T) : \"))\n",
    "\n",
    "if estimator == \"+\" :\n",
    "    add =np.add(matrix_a,matrix_b)\n",
    "    print(\"\\nresult : \\n\",add)\n",
    "\n",
    "if estimator == \"-\" :\n",
    "    sub =np.subtract(matrix_a,matrix_b)\n",
    "    print(\"\\nresult : \\n\",sub)\n",
    "\n",
    "if estimator == \"*\" :\n",
    "    mul =np.multiply(matrix_a,matrix_b)\n",
    "    print(\"\\nresult : \\n\",mul)\n",
    "\n",
    "if estimator == \"/\" :\n",
    "    div =np.divide(matrix_a,matrix_b)\n",
    "    print(\"\\nresult : \\n\",div)\n",
    "\n",
    "if estimator.upper() == \"T\" :\n",
    "    print(\"\\nresult : \\n\",matrix_a.T)\n",
    "    print(\"\\nresult : \\n\",matrix_b.T)"
   ]
  },
  {
   "cell_type": "code",
   "execution_count": null,
   "id": "562b3493",
   "metadata": {},
   "outputs": [],
   "source": []
  },
  {
   "cell_type": "code",
   "execution_count": null,
   "id": "9629faef",
   "metadata": {},
   "outputs": [],
   "source": []
  },
  {
   "cell_type": "code",
   "execution_count": null,
   "id": "c456789d",
   "metadata": {},
   "outputs": [],
   "source": []
  }
 ],
 "metadata": {
  "kernelspec": {
   "display_name": "Python 3",
   "language": "python",
   "name": "python3"
  },
  "language_info": {
   "codemirror_mode": {
    "name": "ipython",
    "version": 3
   },
   "file_extension": ".py",
   "mimetype": "text/x-python",
   "name": "python",
   "nbconvert_exporter": "python",
   "pygments_lexer": "ipython3",
   "version": "3.11.9"
  }
 },
 "nbformat": 4,
 "nbformat_minor": 5
}
