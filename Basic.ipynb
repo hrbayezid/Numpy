{
 "cells": [
  {
   "cell_type": "markdown",
   "metadata": {},
   "source": [
    "***ARRAY***"
   ]
  },
  {
   "cell_type": "code",
   "execution_count": 2,
   "metadata": {},
   "outputs": [],
   "source": [
    "import numpy as np"
   ]
  },
  {
   "cell_type": "code",
   "execution_count": 3,
   "metadata": {},
   "outputs": [
    {
     "name": "stdout",
     "output_type": "stream",
     "text": [
      "[1 2 3 4]\n"
     ]
    },
    {
     "data": {
      "text/plain": [
       "numpy.ndarray"
      ]
     },
     "execution_count": 3,
     "metadata": {},
     "output_type": "execute_result"
    }
   ],
   "source": [
    "\n",
    "x = np.array([1,2,3,4])\n",
    "print(x)\n",
    "type(x)"
   ]
  },
  {
   "cell_type": "code",
   "execution_count": 4,
   "metadata": {},
   "outputs": [
    {
     "data": {
      "text/plain": [
       "array([1, 2, 3, 4, 5])"
      ]
     },
     "execution_count": 4,
     "metadata": {},
     "output_type": "execute_result"
    }
   ],
   "source": [
    "x = [1,2,3,4,5]\n",
    "np.array(x)\n"
   ]
  },
  {
   "cell_type": "code",
   "execution_count": 5,
   "metadata": {},
   "outputs": [
    {
     "name": "stdout",
     "output_type": "stream",
     "text": [
      "[1, 2, 3, 4]\n"
     ]
    },
    {
     "data": {
      "text/plain": [
       "list"
      ]
     },
     "execution_count": 5,
     "metadata": {},
     "output_type": "execute_result"
    }
   ],
   "source": [
    "y = [1,2,3,4]\n",
    "print(y)\n",
    "type(y)"
   ]
  },
  {
   "cell_type": "code",
   "execution_count": 6,
   "metadata": {},
   "outputs": [
    {
     "name": "stdout",
     "output_type": "stream",
     "text": [
      "['3' '3']\n"
     ]
    }
   ],
   "source": [
    "lst = []\n",
    "while True:\n",
    "    num = input(\"add number to the list : \")\n",
    "    if num == \"q\" or num == \"Q\":\n",
    "        break\n",
    "    else:\n",
    "        lst.append(num)\n",
    "print(np.array(lst))"
   ]
  },
  {
   "cell_type": "markdown",
   "metadata": {},
   "source": [
    "***Dimention***"
   ]
  },
  {
   "cell_type": "code",
   "execution_count": 7,
   "metadata": {},
   "outputs": [
    {
     "name": "stdout",
     "output_type": "stream",
     "text": [
      "[1 2 3] \n",
      "type = <class 'numpy.ndarray'> \n",
      "dimention of array is 1\n"
     ]
    }
   ],
   "source": [
    "arr1 = np.array ([1,2,3])\n",
    "\n",
    "print(f\"{arr1} \\ntype = {type(arr1)} \\ndimention of array is {arr1.ndim}\")\n"
   ]
  },
  {
   "cell_type": "code",
   "execution_count": 8,
   "metadata": {},
   "outputs": [
    {
     "name": "stdout",
     "output_type": "stream",
     "text": [
      "[[4 5 6]\n",
      " [7 8 9]] \n",
      " type = <class 'numpy.ndarray'> \n",
      " dimention of array is 2\n"
     ]
    }
   ],
   "source": [
    "arr2 = np.array ([[4,5,6],[7,8,9]])\n",
    "print(f\"{arr2} \\n type = {type(arr2)} \\n dimention of array is {arr2.ndim}\")\n"
   ]
  },
  {
   "cell_type": "code",
   "execution_count": 9,
   "metadata": {},
   "outputs": [
    {
     "name": "stdout",
     "output_type": "stream",
     "text": [
      "[[[1 3 2]\n",
      "  [4 5 6]\n",
      "  [7 9 8]]] \n",
      " type = <class 'numpy.ndarray'> \n",
      " dimention = 3\n"
     ]
    }
   ],
   "source": [
    "arr3 = np.array ([[[1,3,2],[4,5,6],[7,9,8]]])\n",
    "print(f\"{arr3} \\n type = {type(arr3)} \\n dimention = {np.ndim(arr3)}\")\n"
   ]
  },
  {
   "cell_type": "code",
   "execution_count": 10,
   "metadata": {},
   "outputs": [
    {
     "name": "stdout",
     "output_type": "stream",
     "text": [
      "[[[[[[[[[[1 2 3]]]]]]]]]] \n",
      " type = <class 'numpy.ndarray'> \n",
      " dimention = 10\n"
     ]
    }
   ],
   "source": [
    "arrn = np.array([1,2,3],ndmin=10)\n",
    "print(f\"{arrn} \\n type = {type(arrn)} \\n dimention = {np.ndim(arrn)}\")\n"
   ]
  },
  {
   "cell_type": "markdown",
   "metadata": {},
   "source": [
    "***Numpy Functions***"
   ]
  },
  {
   "cell_type": "code",
   "execution_count": 11,
   "metadata": {},
   "outputs": [
    {
     "name": "stdout",
     "output_type": "stream",
     "text": [
      "[0. 0. 0. 0. 0.]\n"
     ]
    },
    {
     "data": {
      "text/plain": [
       "array([[[0., 0., 0., 0., 0.],\n",
       "        [0., 0., 0., 0., 0.],\n",
       "        [0., 0., 0., 0., 0.],\n",
       "        [0., 0., 0., 0., 0.]],\n",
       "\n",
       "       [[0., 0., 0., 0., 0.],\n",
       "        [0., 0., 0., 0., 0.],\n",
       "        [0., 0., 0., 0., 0.],\n",
       "        [0., 0., 0., 0., 0.]],\n",
       "\n",
       "       [[0., 0., 0., 0., 0.],\n",
       "        [0., 0., 0., 0., 0.],\n",
       "        [0., 0., 0., 0., 0.],\n",
       "        [0., 0., 0., 0., 0.]]])"
      ]
     },
     "execution_count": 11,
     "metadata": {},
     "output_type": "execute_result"
    }
   ],
   "source": [
    "zero = np.zeros((5))\n",
    "print(zero)\n",
    "\n",
    "\n",
    "zero1 = np.zeros((3,4,5))# 3 dimention, 4 row , 5 columns\n",
    "zero1"
   ]
  },
  {
   "cell_type": "code",
   "execution_count": 12,
   "metadata": {},
   "outputs": [
    {
     "name": "stdout",
     "output_type": "stream",
     "text": [
      "[1. 1. 1. 1. 1.]\n"
     ]
    }
   ],
   "source": [
    "one = np.ones(5) \n",
    "print(one)"
   ]
  },
  {
   "cell_type": "code",
   "execution_count": 13,
   "metadata": {},
   "outputs": [
    {
     "data": {
      "text/plain": [
       "array([1., 1., 1., 1., 1.])"
      ]
     },
     "execution_count": 13,
     "metadata": {},
     "output_type": "execute_result"
    }
   ],
   "source": [
    "empty1 = np.empty(5)\n",
    "empty1"
   ]
  },
  {
   "cell_type": "code",
   "execution_count": 14,
   "metadata": {},
   "outputs": [
    {
     "name": "stdout",
     "output_type": "stream",
     "text": [
      "[[1. 1. 1.]\n",
      " [1. 1. 1.]\n",
      " [1. 1. 1.]]\n"
     ]
    }
   ],
   "source": [
    "one1 = np.ones((3,3))\n",
    "print(one1)"
   ]
  },
  {
   "cell_type": "code",
   "execution_count": 15,
   "metadata": {},
   "outputs": [
    {
     "name": "stdout",
     "output_type": "stream",
     "text": [
      "[[1. 1. 1.]\n",
      " [1. 1. 1.]\n",
      " [1. 1. 1.]]\n"
     ]
    }
   ],
   "source": [
    "empty2 = np.empty((3,3))\n",
    "print(empty2)"
   ]
  },
  {
   "cell_type": "code",
   "execution_count": 16,
   "metadata": {},
   "outputs": [
    {
     "name": "stdout",
     "output_type": "stream",
     "text": [
      "[0 1 2 3 4 5]\n",
      "[ 0  2  4  6  8 10]\n"
     ]
    }
   ],
   "source": [
    "arange1 = np.arange(6)\n",
    "print (arange1)\n",
    "arange2 = np.arange(0,11,2)\n",
    "print (arange2)"
   ]
  },
  {
   "cell_type": "code",
   "execution_count": 17,
   "metadata": {},
   "outputs": [
    {
     "data": {
      "text/plain": [
       "array([10, 10, 10, 10, 10])"
      ]
     },
     "execution_count": 17,
     "metadata": {},
     "output_type": "execute_result"
    }
   ],
   "source": [
    "ten = np.full(5,10)\n",
    "ten"
   ]
  },
  {
   "cell_type": "code",
   "execution_count": 18,
   "metadata": {},
   "outputs": [
    {
     "name": "stdout",
     "output_type": "stream",
     "text": [
      "[[1. 0. 0.]\n",
      " [0. 1. 0.]\n",
      " [0. 0. 1.]]\n"
     ]
    },
    {
     "data": {
      "text/plain": [
       "array([[1., 0., 0., 0., 0.],\n",
       "       [0., 1., 0., 0., 0.],\n",
       "       [0., 0., 1., 0., 0.],\n",
       "       [0., 0., 0., 1., 0.]])"
      ]
     },
     "execution_count": 18,
     "metadata": {},
     "output_type": "execute_result"
    }
   ],
   "source": [
    "eye1 = np.eye(3)\n",
    "print(eye1)\n",
    "\n",
    "eye2 = np.eye(4,5)\n",
    "eye2"
   ]
  },
  {
   "cell_type": "code",
   "execution_count": 37,
   "metadata": {},
   "outputs": [
    {
     "data": {
      "text/plain": [
       "array([[5., 0., 0., 0., 0.],\n",
       "       [0., 5., 0., 0., 0.],\n",
       "       [0., 0., 5., 0., 0.],\n",
       "       [0., 0., 0., 5., 0.],\n",
       "       [0., 0., 0., 0., 5.]])"
      ]
     },
     "execution_count": 37,
     "metadata": {},
     "output_type": "execute_result"
    }
   ],
   "source": [
    "identity = np.identity(5)*5 \n",
    "identity"
   ]
  },
  {
   "cell_type": "code",
   "execution_count": 19,
   "metadata": {},
   "outputs": [
    {
     "data": {
      "text/plain": [
       "array([ 1.,  4.,  7., 10.])"
      ]
     },
     "execution_count": 19,
     "metadata": {},
     "output_type": "execute_result"
    }
   ],
   "source": [
    "ln_space = np.linspace(1,10,4)\n",
    "ln_space"
   ]
  },
  {
   "cell_type": "code",
   "execution_count": 20,
   "metadata": {},
   "outputs": [
    {
     "name": "stdout",
     "output_type": "stream",
     "text": [
      "[0.22145016 0.9013964  0.89249432 0.31252446 0.44808811]\n",
      "[ 0.27548323  1.23466758 -1.18599595 -0.20464279 -0.59502399]\n",
      "[0.61982794 0.93363709 0.19939836 0.60740122 0.67145533]\n",
      "[9 2 4 5 3]\n",
      "1\n"
     ]
    }
   ],
   "source": [
    "\n",
    "rdm1 = np.random.rand(5) #(0-1 one included)\n",
    "print(rdm1)\n",
    "\n",
    "rdm2 = np.random.randn(5) #(0-1 positive and nagetive)\n",
    "print(rdm2)\n",
    "\n",
    "rdm3 = np.random.ranf(5) #(0-.9 one exluded)\n",
    "print(rdm3)\n",
    "\n",
    "rdm4 = np.random.randint(1,10,5) #(min , max , total number of value)\n",
    "print(rdm4)\n",
    "\n",
    "rdm5 = np.random.randint(10) # randomly genarating from 0-10\n",
    "print(rdm5)"
   ]
  },
  {
   "cell_type": "markdown",
   "metadata": {},
   "source": [
    "***data type***"
   ]
  },
  {
   "cell_type": "code",
   "execution_count": 21,
   "metadata": {},
   "outputs": [
    {
     "name": "stdout",
     "output_type": "stream",
     "text": [
      "data type :  int16\n",
      "data type :  <U2\n",
      "data type :  <U1\n"
     ]
    }
   ],
   "source": [
    "var = np.array([1,2,3],dtype=\"int16\")\n",
    "print(\"data type : \", var.dtype)\n",
    "\n",
    "var1 = np.array([\"ab\",\"cd\",\"ef\"])\n",
    "print(\"data type : \", var1.dtype)\n",
    "\n",
    "var2 = np.array([[1,2,3] ,[\"ab\",\"cd\",\"ef\"]],dtype=\"U1\")\n",
    "print(\"data type : \", var2.dtype)\n"
   ]
  },
  {
   "cell_type": "markdown",
   "metadata": {},
   "source": [
    "***type-conversion***"
   ]
  },
  {
   "cell_type": "code",
   "execution_count": 22,
   "metadata": {},
   "outputs": [
    {
     "name": "stdout",
     "output_type": "stream",
     "text": [
      "data type :  [1 2 3] type :  int8\n",
      "data type :  ['1' '2' '3'] type :  <U1\n"
     ]
    }
   ],
   "source": [
    "var = np.array([1,2,3,],dtype=np.int8)\n",
    "print(\"data type : \",var,\"type : \", var.dtype)\n",
    "\n",
    "var1 = np.array([1,2,3,],dtype=np.str_)\n",
    "print(\"data type : \",var1,\"type : \", var1.dtype)"
   ]
  },
  {
   "cell_type": "code",
   "execution_count": 23,
   "metadata": {},
   "outputs": [
    {
     "name": "stdout",
     "output_type": "stream",
     "text": [
      "data = [1. 2. 3.] \n",
      "data type : float32\n"
     ]
    }
   ],
   "source": [
    "var = np.array([1,2,3,],dtype=\"f\")\n",
    "print(f\"data = {var} \\ndata type : {var.dtype}\")"
   ]
  },
  {
   "cell_type": "code",
   "execution_count": 24,
   "metadata": {},
   "outputs": [
    {
     "name": "stdout",
     "output_type": "stream",
     "text": [
      "float32\n",
      "int16\n"
     ]
    }
   ],
   "source": [
    "var2 = np.array([1,2,3,],dtype=\"f\")\n",
    "print(var2.dtype)\n",
    "\n",
    "update = var2.astype(np.int16)\n",
    "\n",
    "print(update.dtype)"
   ]
  },
  {
   "cell_type": "markdown",
   "metadata": {},
   "source": [
    "***Arithmetic operation***"
   ]
  },
  {
   "cell_type": "code",
   "execution_count": 25,
   "metadata": {},
   "outputs": [
    {
     "name": "stdout",
     "output_type": "stream",
     "text": [
      "[6 7 8 9]\n",
      "[ 6 12 18 24]\n"
     ]
    }
   ],
   "source": [
    "var1 = np.array([1,2,3,4])\n",
    "addition = var1 + 5\n",
    "print (addition)\n",
    "\n",
    "mul = np.multiply(var1,6)\n",
    "print (mul)\n"
   ]
  },
  {
   "cell_type": "code",
   "execution_count": 26,
   "metadata": {},
   "outputs": [
    {
     "name": "stdout",
     "output_type": "stream",
     "text": [
      "add  [ 6  8 10 12]\n",
      "sub  [4 4 4 4]\n",
      "mul  [ 5 12 21 32]\n",
      "div  [0.2        0.33333333 0.42857143 0.5       ]\n",
      "mod  [0 0 1 0]\n"
     ]
    }
   ],
   "source": [
    "var1 = np.array([1,2,3,4])\n",
    "var2 = np.array([5,6,7,8])\n",
    "add = var1 + var2\n",
    "print(\"add \" ,add)\n",
    "\n",
    "\n",
    "var1 = np.array([1,2,3,4])\n",
    "var2 = np.array([5,6,7,8])\n",
    "subtraction = var2 - var1\n",
    "print(\"sub \", subtraction)\n",
    "\n",
    "var1 = np.array([1,2,3,4])\n",
    "var2 = np.array([5,6,7,8])\n",
    "mul = var1 * var2\n",
    "print(\"mul \", mul)\n",
    "\n",
    "var1 = np.array([1,2,3,4])\n",
    "var2 = np.array([5,6,7,8])\n",
    "div = var1 / var2\n",
    "print (\"div \",div)\n",
    "\n",
    "var1 = np.array([1,2,3,4])\n",
    "var2 = np.array([5,6,7,8])\n",
    "mod = var2 % var1\n",
    "print (\"mod \", mod)"
   ]
  },
  {
   "cell_type": "markdown",
   "metadata": {},
   "source": [
    "***2d Array***\n"
   ]
  },
  {
   "cell_type": "code",
   "execution_count": 27,
   "metadata": {},
   "outputs": [
    {
     "data": {
      "text/plain": [
       "array([[ 2,  4,  6,  8, 10],\n",
       "       [12, 14, 16, 18, 20]])"
      ]
     },
     "execution_count": 27,
     "metadata": {},
     "output_type": "execute_result"
    }
   ],
   "source": [
    "var1 = np.array ([[1,2,3,4,5],[6,7,8,9,10]])\n",
    "var2 = np.array ([[1,2,3,4,5],[6,7,8,9,10]])\n",
    "add = var1+var2\n",
    "add"
   ]
  },
  {
   "cell_type": "code",
   "execution_count": 28,
   "metadata": {},
   "outputs": [
    {
     "data": {
      "text/plain": [
       "array([[  1,   4,   9,  16,  25],\n",
       "       [ 36,  49,  64,  81, 100]])"
      ]
     },
     "execution_count": 28,
     "metadata": {},
     "output_type": "execute_result"
    }
   ],
   "source": [
    "var1 = np.array ([[1,2,3,4,5],[6,7,8,9,10]])\n",
    "var2 = np.array ([[1,2,3,4,5],[6,7,8,9,10]])\n",
    "\n",
    "square = np.square(var1)\n",
    "square"
   ]
  },
  {
   "cell_type": "markdown",
   "metadata": {},
   "source": [
    "***Arithmetic Function***"
   ]
  },
  {
   "cell_type": "code",
   "execution_count": 29,
   "metadata": {},
   "outputs": [
    {
     "name": "stdout",
     "output_type": "stream",
     "text": [
      "min  1\n",
      "max  9\n",
      "position of min value  0\n",
      "position of max value  8\n",
      "square root  [1.41421356 2.         2.82842712]\n",
      "sin  [ 0.90929743 -0.7568025   0.98935825]\n",
      "cos  [-0.41614684 -0.65364362 -0.14550003]\n",
      "cumsum  [ 2  6 14]\n"
     ]
    }
   ],
   "source": [
    "x = np.array([1,2,3,4,5,6,7,8,9])\n",
    "minimum = np.min(x)\n",
    "print(\"min \", minimum)\n",
    "\n",
    "maximum = np.max(x)\n",
    "print(\"max \",maximum)\n",
    "\n",
    "minimum_arg = np.argmin(x)\n",
    "print(\"position of min value \",minimum_arg)\n",
    "\n",
    "maximum_arg = np.argmax(x)\n",
    "print(\"position of max value \",maximum_arg)\n",
    "  \n",
    "y = np.array([2,4,8])  \n",
    "sqroot = np.sqrt(y)\n",
    "print(\"square root \",sqroot)\n",
    "\n",
    "sin = np.sin(y)\n",
    "print(\"sin \",sin)\n",
    "\n",
    "\n",
    "cos = np.cos(y)\n",
    "print(\"cos \",cos)\n",
    "\n",
    "\n",
    "cumsum = np.cumsum(y)\n",
    "print(\"cumsum \",cumsum)\n",
    "\n"
   ]
  },
  {
   "cell_type": "code",
   "execution_count": 30,
   "metadata": {},
   "outputs": [
    {
     "name": "stdout",
     "output_type": "stream",
     "text": [
      "[1 1]\n",
      "[ 9  8 10  4  5]\n"
     ]
    }
   ],
   "source": [
    "var1 = np.array ([[1,8,10,4,5],[9,2,8,1,4]])\n",
    "\n",
    "print(np.min(var1,axis=1))\n",
    "print(np.max(var1,axis=0))"
   ]
  },
  {
   "cell_type": "markdown",
   "metadata": {},
   "source": [
    "***Shape & Reshape***"
   ]
  },
  {
   "cell_type": "code",
   "execution_count": 31,
   "metadata": {},
   "outputs": [
    {
     "name": "stdout",
     "output_type": "stream",
     "text": [
      "shape  (2, 4)\n",
      "dimention  2\n",
      "size  8\n"
     ]
    }
   ],
   "source": [
    "x = np.array([[1,2,3,4],[1,2,3,4]])\n",
    "\n",
    "print(\"shape \",x.shape)\n",
    "print(\"dimention \",x.ndim)\n",
    "print(\"size \",x.size)\n"
   ]
  },
  {
   "cell_type": "code",
   "execution_count": 32,
   "metadata": {},
   "outputs": [
    {
     "name": "stdout",
     "output_type": "stream",
     "text": [
      "[[[1 2 3 4]]]\n",
      "shape  (1, 1, 4)\n",
      "dimention  3\n",
      "size  4\n"
     ]
    }
   ],
   "source": [
    "ar = np.array([1,2,3,4], ndmin=3 )\n",
    "print(ar)\n",
    "print(\"shape \",ar.shape)\n",
    "print(\"dimention \",ar.ndim)\n",
    "print(\"size \",ar.size)"
   ]
  },
  {
   "cell_type": "code",
   "execution_count": 33,
   "metadata": {},
   "outputs": [
    {
     "name": "stdout",
     "output_type": "stream",
     "text": [
      "[[1 2]\n",
      " [3 4]\n",
      " [5 6]]\n",
      "dimention: 2\n"
     ]
    }
   ],
   "source": [
    "ar1 = np.array([1,2,3,4,5,6])\n",
    "\n",
    "x = ar1.reshape(3,2)\n",
    "\n",
    "\n",
    "print(x)\n",
    "print(\"dimention:\",x.ndim)"
   ]
  },
  {
   "cell_type": "code",
   "execution_count": 34,
   "metadata": {},
   "outputs": [
    {
     "name": "stdout",
     "output_type": "stream",
     "text": [
      "[[[ 1  2]\n",
      "  [ 3  4]]\n",
      "\n",
      " [[ 5  6]\n",
      "  [ 7  8]]\n",
      "\n",
      " [[ 9 10]\n",
      "  [11 12]]]\n",
      "dimention 3\n",
      "size 12\n",
      "[ 1  2  3  4  5  6  7  8  9 10 11 12]\n",
      "dimention 1\n"
     ]
    }
   ],
   "source": [
    "ar2 = np.array([1,2,3,4,5,6,7,8,9,10,11,12])\n",
    "\n",
    "y = ar2.reshape(3,2,2)\n",
    "print (y )\n",
    "print (\"dimention\",y.ndim)\n",
    "print (\"size\",y.size)\n",
    "\n",
    "z= y.reshape(-1)\n",
    "print (z)\n",
    "print (\"dimention\",z.ndim)\n"
   ]
  },
  {
   "cell_type": "markdown",
   "metadata": {},
   "source": [
    "***Competition***"
   ]
  },
  {
   "cell_type": "code",
   "execution_count": 35,
   "metadata": {},
   "outputs": [
    {
     "name": "stdout",
     "output_type": "stream",
     "text": [
      "622 ns ± 29.1 ns per loop (mean ± std. dev. of 7 runs, 1,000,000 loops each)\n"
     ]
    }
   ],
   "source": [
    "%timeit [i**2 for i in range(1,11)] "
   ]
  },
  {
   "cell_type": "code",
   "execution_count": 36,
   "metadata": {},
   "outputs": [
    {
     "name": "stdout",
     "output_type": "stream",
     "text": [
      "1.26 μs ± 50 ns per loop (mean ± std. dev. of 7 runs, 1,000,000 loops each)\n"
     ]
    }
   ],
   "source": [
    "%timeit np.arange(1,11)**2"
   ]
  },
  {
   "cell_type": "code",
   "execution_count": null,
   "metadata": {},
   "outputs": [],
   "source": []
  }
 ],
 "metadata": {
  "kernelspec": {
   "display_name": "Python 3",
   "language": "python",
   "name": "python3"
  },
  "language_info": {
   "codemirror_mode": {
    "name": "ipython",
    "version": 3
   },
   "file_extension": ".py",
   "mimetype": "text/x-python",
   "name": "python",
   "nbconvert_exporter": "python",
   "pygments_lexer": "ipython3",
   "version": "3.11.9"
  }
 },
 "nbformat": 4,
 "nbformat_minor": 2
}
