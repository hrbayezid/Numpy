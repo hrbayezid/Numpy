{
 "cells": [
  {
   "cell_type": "code",
   "execution_count": 1,
   "metadata": {},
   "outputs": [],
   "source": [
    "import numpy as np"
   ]
  },
  {
   "cell_type": "markdown",
   "metadata": {},
   "source": [
    "***broadcasting***"
   ]
  },
  {
   "cell_type": "code",
   "execution_count": 2,
   "metadata": {},
   "outputs": [
    {
     "name": "stdout",
     "output_type": "stream",
     "text": [
      "[[2 3 4]\n",
      " [3 4 5]\n",
      " [4 5 6]]\n"
     ]
    }
   ],
   "source": [
    "var1 = np.array([1,2,3])\n",
    "var2 = np.array ([[1],[2],[3]])\n",
    "x= print(np.add(var1,var2))\n",
    "x"
   ]
  },
  {
   "cell_type": "code",
   "execution_count": 3,
   "metadata": {},
   "outputs": [
    {
     "name": "stdout",
     "output_type": "stream",
     "text": [
      "(4, 1)\n",
      "(1, 5)\n",
      "[[4 5 6 6 5]\n",
      " [6 7 8 8 7]\n",
      " [6 7 8 8 7]\n",
      " [3 4 5 5 4]]\n"
     ]
    }
   ],
   "source": [
    "x = np.array([[2],[4],[4],[1]])\n",
    "print(x.shape)\n",
    "y = np.array([[2,3,4,4,3]])\n",
    "print(y.shape)\n",
    "\n",
    "print(x+y)"
   ]
  },
  {
   "cell_type": "markdown",
   "metadata": {},
   "source": [
    "***indexing***"
   ]
  },
  {
   "cell_type": "code",
   "execution_count": 4,
   "metadata": {},
   "outputs": [
    {
     "name": "stdout",
     "output_type": "stream",
     "text": [
      "dimention 1\n",
      "5\n"
     ]
    }
   ],
   "source": [
    "dim1 = np.array([1,2,5])\n",
    "print(\"dimention\",dim1.ndim)\n",
    "\n",
    "print(dim1[2])"
   ]
  },
  {
   "cell_type": "code",
   "execution_count": 5,
   "metadata": {},
   "outputs": [
    {
     "name": "stdout",
     "output_type": "stream",
     "text": [
      "dimention 2\n",
      "5\n"
     ]
    }
   ],
   "source": [
    "dim2 = np.array([[1,2,3],[4,5,6]])\n",
    "print(\"dimention\",dim2.ndim)\n",
    "\n",
    "print(dim2[1,1])"
   ]
  },
  {
   "cell_type": "code",
   "execution_count": 6,
   "metadata": {},
   "outputs": [
    {
     "name": "stdout",
     "output_type": "stream",
     "text": [
      "dimention 3\n",
      "5\n"
     ]
    }
   ],
   "source": [
    "dim2 = np.array([[[1,2,3],[4,5,6]],[[4,6,6],[7,8,9]]])\n",
    "print(\"dimention\",dim2.ndim)\n",
    "\n",
    "print(dim2[0,1,1])"
   ]
  },
  {
   "cell_type": "markdown",
   "metadata": {},
   "source": [
    "***Slicing***"
   ]
  },
  {
   "cell_type": "code",
   "execution_count": 7,
   "metadata": {},
   "outputs": [
    {
     "name": "stdout",
     "output_type": "stream",
     "text": [
      "[5]\n",
      "[5]\n",
      "[1 3 5]\n"
     ]
    }
   ],
   "source": [
    "slice = np.array([1,2,3,4,5,6])\n",
    "print(slice[4:5])\n",
    "print(slice[-2:-1])\n",
    "print(slice[::2])\n"
   ]
  },
  {
   "cell_type": "code",
   "execution_count": 8,
   "metadata": {},
   "outputs": [
    {
     "name": "stdout",
     "output_type": "stream",
     "text": [
      "[5 6]\n"
     ]
    }
   ],
   "source": [
    "slice2 = np.array([[[1,2,3],[4,5,6]],[[4,6,6],[7,8,9]]])\n",
    "\n",
    "print(slice2[0,1,1:])\n"
   ]
  },
  {
   "cell_type": "markdown",
   "metadata": {},
   "source": [
    "***iteration***"
   ]
  },
  {
   "cell_type": "code",
   "execution_count": 9,
   "metadata": {},
   "outputs": [
    {
     "name": "stdout",
     "output_type": "stream",
     "text": [
      "[1 2 3 4 5]\n",
      "12345"
     ]
    }
   ],
   "source": [
    "var = np.array([1,2,3,4,5])\n",
    "print(var)\n",
    "for i in var:\n",
    "    print(i , end = \"\")"
   ]
  },
  {
   "cell_type": "code",
   "execution_count": 10,
   "metadata": {},
   "outputs": [
    {
     "name": "stdout",
     "output_type": "stream",
     "text": [
      "[[1 2 3 4 5]\n",
      " [1 2 3 4 5]]\n",
      "dimention 2\n",
      "1 2 3 4 5 1 2 3 4 5 \n",
      "\n",
      "[[[1 2 3 4 5]\n",
      "  [1 2 3 4 5]]]\n",
      "dimention 3\n",
      "1 2 3 4 5 1 2 3 4 5 "
     ]
    }
   ],
   "source": [
    "var = np.array([[1,2,3,4,5],[1,2,3,4,5]])\n",
    "print(var)\n",
    "print(\"dimention\" ,var.ndim)\n",
    "\n",
    "for i in var:\n",
    "    for j in i:\n",
    "        print(j,end = \" \")\n",
    "\n",
    "print()\n",
    "print()\n",
    "\n",
    "var = np.array([[[1,2,3,4,5],[1,2,3,4,5]]])\n",
    "print(var)\n",
    "print(\"dimention\" ,var.ndim)\n",
    "\n",
    "for i in var:\n",
    "    for j in i:\n",
    "        for k in j:\n",
    "            print(k,end = \" \")\n"
   ]
  },
  {
   "cell_type": "code",
   "execution_count": 11,
   "metadata": {},
   "outputs": [
    {
     "name": "stdout",
     "output_type": "stream",
     "text": [
      "1 2 3 4 5 1 2 3 4 5 \n",
      "1 (0, 0, 0)\n",
      "2 (0, 0, 1)\n",
      "3 (0, 0, 2)\n",
      "4 (0, 0, 3)\n",
      "5 (0, 0, 4)\n",
      "1 (0, 1, 0)\n",
      "2 (0, 1, 1)\n",
      "3 (0, 1, 2)\n",
      "4 (0, 1, 3)\n",
      "5 (0, 1, 4)\n"
     ]
    }
   ],
   "source": [
    "var = np.array([[[1,2,3,4,5],[1,2,3,4,5]]])\n",
    "for i in np.nditer(var):\n",
    "    print(i, end = \" \")\n",
    "\n",
    "print()\n",
    "\n",
    "for i,d in np.ndenumerate(var):\n",
    "    print(d,i)"
   ]
  },
  {
   "cell_type": "markdown",
   "metadata": {},
   "source": [
    "***Copy vs View***"
   ]
  },
  {
   "cell_type": "code",
   "execution_count": 12,
   "metadata": {},
   "outputs": [
    {
     "name": "stdout",
     "output_type": "stream",
     "text": [
      "original [1 2 3 4 5]\n",
      "copy [1 5 3 4 5]\n",
      "copy does not affect main data\n",
      "original [1 5 3 4 5]\n",
      "view [1 5 3 4 5]\n"
     ]
    }
   ],
   "source": [
    "var = np.array([1,2,3,4,5])\n",
    "cpy = var.copy()\n",
    "cpy[1] = 5\n",
    "print(f\"original {var}\")\n",
    "print(\"copy\",cpy)\n",
    "\n",
    "print(\"copy does not affect main data\")\n",
    "\n",
    "vw = var.view()\n",
    "vw[1]=5\n",
    "print(f\"original {var}\")\n",
    "print(\"view\", vw)"
   ]
  },
  {
   "cell_type": "markdown",
   "metadata": {},
   "source": [
    "***Join***"
   ]
  },
  {
   "cell_type": "code",
   "execution_count": 13,
   "metadata": {},
   "outputs": [
    {
     "name": "stdout",
     "output_type": "stream",
     "text": [
      "[ 1  2  3  4  5  6  7  8  9 10]\n"
     ]
    }
   ],
   "source": [
    "var = np.array([1,2,3,4,5])\n",
    "var1 = np.array([6,7,8,9,10])\n",
    "\n",
    "print(np.concat((var,var1)))"
   ]
  },
  {
   "cell_type": "code",
   "execution_count": 14,
   "metadata": {},
   "outputs": [
    {
     "name": "stdout",
     "output_type": "stream",
     "text": [
      "x [[ 1  2  3]\n",
      " [ 4  5  6]\n",
      " [ 6  7  8]\n",
      " [ 9 10 11]]\n",
      "\n",
      "\n",
      "y [[ 1  2  3  6  7  8]\n",
      " [ 4  5  6  9 10 11]]\n"
     ]
    }
   ],
   "source": [
    "var = np.array([[1,2,3],[4,5,6]])\n",
    "var1 = np.array([[6,7,8],[9,10,11]])\n",
    "\n",
    "x = np.concatenate((var,var1),axis = 0)\n",
    "y = np.concatenate((var,var1),axis = 1)\n",
    "\n",
    "print(\"x\",x ,end =\"\\n\"*3)\n",
    "\n",
    "print(\"y\",y)"
   ]
  },
  {
   "cell_type": "code",
   "execution_count": 15,
   "metadata": {},
   "outputs": [
    {
     "name": "stdout",
     "output_type": "stream",
     "text": [
      "x [[[ 1  2  3]\n",
      "  [ 4  5  6]]\n",
      "\n",
      " [[ 6  7  8]\n",
      "  [ 9 10 11]]]\n",
      "\n",
      "\n",
      "a [[ 1  2  3  6  7  8]\n",
      " [ 4  5  6  9 10 11]]\n",
      "\n",
      "\n",
      "b [[ 1  2  3]\n",
      " [ 4  5  6]\n",
      " [ 6  7  8]\n",
      " [ 9 10 11]]\n",
      "\n",
      "\n",
      "y [[[ 1  2  3]\n",
      "  [ 6  7  8]]\n",
      "\n",
      " [[ 4  5  6]\n",
      "  [ 9 10 11]]]\n",
      "\n",
      "\n",
      "c [[[ 1  6]\n",
      "  [ 2  7]\n",
      "  [ 3  8]]\n",
      "\n",
      " [[ 4  9]\n",
      "  [ 5 10]\n",
      "  [ 6 11]]]\n"
     ]
    }
   ],
   "source": [
    "var = np.array([[1,2,3],[4,5,6]])\n",
    "var1 = np.array([[6,7,8],[9,10,11]])\n",
    "\n",
    "x = np.stack((var,var1),axis = 0)\n",
    "y = np.stack((var,var1),axis = 1)\n",
    "a = np.hstack((var,var1))# xs =0(col)\n",
    "b = np.vstack((var,var1))# xs =1 (row)\n",
    "c = np.dstack((var,var1))# height\n",
    "\n",
    "\n",
    "print(\"x\",x ,end =\"\\n\"*3)\n",
    "print(\"a\",a ,end =\"\\n\"*3)\n",
    "\n",
    "print(\"b\",b ,end =\"\\n\"*3)\n",
    "print(\"y\",y,end =\"\\n\"*3)\n",
    "\n",
    "print(\"c\",c)\n"
   ]
  },
  {
   "cell_type": "markdown",
   "metadata": {},
   "source": [
    "***Split***"
   ]
  },
  {
   "cell_type": "code",
   "execution_count": 16,
   "metadata": {},
   "outputs": [
    {
     "name": "stdout",
     "output_type": "stream",
     "text": [
      "[array([1, 2]), array([3, 4])]\n",
      "[array([[1, 2, 3, 4]]), array([[4, 5, 6, 5]])]\n"
     ]
    }
   ],
   "source": [
    "var = np.array([[1,2,3,4],[4,5,6,5]])\n",
    "var2 = np.array([1,2,3,4])\n",
    "\n",
    "splt = np.split(var2,2)\n",
    "print(splt)\n",
    "splt2 = np.split(var,2)\n",
    "print(splt2)"
   ]
  },
  {
   "cell_type": "code",
   "execution_count": 17,
   "metadata": {},
   "outputs": [
    {
     "name": "stdout",
     "output_type": "stream",
     "text": [
      "var2 [array([[1, 2, 3, 4]]), array([[4, 5, 6, 5]])]\n",
      "var [array([[1, 2],\n",
      "       [4, 5]]), array([[3, 4],\n",
      "       [6, 5]])]\n"
     ]
    }
   ],
   "source": [
    "var = np.array([[1,2,3,4],[4,5,6,5]])\n",
    "\n",
    "\n",
    "splt = np.split(var,2,axis=0)\n",
    "print(\"var2\",splt)\n",
    "splt2 = np.split(var,2, axis = 1)\n",
    "print(\"var\",splt2)\n"
   ]
  },
  {
   "cell_type": "markdown",
   "metadata": {},
   "source": [
    "***array functions***"
   ]
  },
  {
   "cell_type": "code",
   "execution_count": 18,
   "metadata": {},
   "outputs": [
    {
     "name": "stdout",
     "output_type": "stream",
     "text": [
      "(array([1, 3, 4, 6, 9]),)\n",
      "(array([0, 1, 2, 3, 4, 6, 8, 9]),)\n"
     ]
    }
   ],
   "source": [
    "ar = np.array([1,5,3,5,5,6,5,8,9,5])\n",
    "\n",
    "x = np.where(ar == 5)\n",
    "print(x)\n",
    "\n",
    "y = np.where (ar%2!=0)\n",
    "print(y)"
   ]
  },
  {
   "cell_type": "code",
   "execution_count": 34,
   "metadata": {},
   "outputs": [
    {
     "name": "stdout",
     "output_type": "stream",
     "text": [
      "11\n"
     ]
    }
   ],
   "source": [
    "ar = np.array([1,5,3,5,5,6,5,8,9,5,6])\n",
    "\n",
    "y = np.searchsorted(ar,11,side='Left')\n",
    "print(y)"
   ]
  },
  {
   "cell_type": "code",
   "execution_count": 20,
   "metadata": {},
   "outputs": [
    {
     "name": "stdout",
     "output_type": "stream",
     "text": [
      "[[ 1  3  5]\n",
      " [ 6 55 65]\n",
      " [ 8 15 35]]\n",
      "['a' 'b' 'c' 'd']\n"
     ]
    }
   ],
   "source": [
    "ar = np.array([[1,5,3],[55,65,6],[35,8,15]])\n",
    "\n",
    "print(np.sort(ar))\n",
    "\n",
    "ar1 = np.array([\"a\",\"d\",\"c\",\"b\"])\n",
    "\n",
    "print(np.sort(ar1))\n",
    "\n"
   ]
  },
  {
   "cell_type": "code",
   "execution_count": 21,
   "metadata": {},
   "outputs": [
    {
     "data": {
      "text/plain": [
       "array(['a', 'c'], dtype='<U1')"
      ]
     },
     "execution_count": 21,
     "metadata": {},
     "output_type": "execute_result"
    }
   ],
   "source": [
    "arr_1 = np.array([\"a\",\"d\",\"c\",\"b\"])\n",
    "\n",
    "fltr = [True,False,True,False]\n",
    "\n",
    "filtered = arr_1[fltr]\n",
    "filtered"
   ]
  },
  {
   "cell_type": "code",
   "execution_count": 42,
   "metadata": {},
   "outputs": [
    {
     "name": "stdout",
     "output_type": "stream",
     "text": [
      "[8 3 5 5 5 1 5 9 6 5]\n",
      "(array([1, 3, 5, 6, 8, 9]), array([5, 1, 2, 8, 0, 7]), array([1, 1, 5, 1, 1, 1]))\n",
      "[[8 3 5 5 5]\n",
      " [1 5 9 6 5]]\n",
      "[8 3 5 5 5 1 5 9 6 5]\n",
      "[8 1 3 5 5 9 5 6 5 5]\n"
     ]
    }
   ],
   "source": [
    "ar = np.array([1,5,3,5,5,6,5,8,9,5])\n",
    "np.random.shuffle(ar)\n",
    "print(ar)\n",
    "\n",
    "print(np.unique(ar,return_index=True,return_counts=True))\n",
    "\n",
    "y = np.resize(ar,(2,5))\n",
    "print(y)\n",
    "\n",
    "print(y.flatten(\"c\"))\n",
    "\n",
    "print(y.flatten(\"f\"))"
   ]
  },
  {
   "cell_type": "markdown",
   "metadata": {},
   "source": [
    "***insertion & Deletion***"
   ]
  },
  {
   "cell_type": "code",
   "execution_count": 43,
   "metadata": {},
   "outputs": [
    {
     "name": "stdout",
     "output_type": "stream",
     "text": [
      "[1 8 5 3 5 5 6 5 8 9 5]\n"
     ]
    },
    {
     "data": {
      "text/plain": [
       "array([1. , 5. , 3. , 5. , 5. , 6. , 5. , 8. , 9. , 5. , 6.5])"
      ]
     },
     "execution_count": 43,
     "metadata": {},
     "output_type": "execute_result"
    }
   ],
   "source": [
    "ar = np.array([1,5,3,5,5,6,5,8,9,5])\n",
    "\n",
    "x = np.insert(ar,(1),8.9)\n",
    "print(x)\n",
    "y = np.append(ar,6.5)\n",
    "y"
   ]
  },
  {
   "cell_type": "code",
   "execution_count": 44,
   "metadata": {},
   "outputs": [
    {
     "name": "stdout",
     "output_type": "stream",
     "text": [
      "[[ 1  5  3  5  8]\n",
      " [ 5  6  5  8 16]]\n"
     ]
    }
   ],
   "source": [
    "ar = np.array([[1,5,3,5],[5,6,5,8]])\n",
    "v1 = np.insert(ar,4,[8,16],axis=1)\n",
    "print(v1)"
   ]
  },
  {
   "cell_type": "code",
   "execution_count": 45,
   "metadata": {},
   "outputs": [
    {
     "name": "stdout",
     "output_type": "stream",
     "text": [
      "[1 3 5]\n"
     ]
    }
   ],
   "source": [
    "ar = np.array([1,5,3,5])\n",
    "\n",
    "dlt = np.delete(ar,1)\n",
    "print(dlt)"
   ]
  },
  {
   "cell_type": "markdown",
   "metadata": {},
   "source": [
    "***Matrix***"
   ]
  },
  {
   "cell_type": "code",
   "execution_count": 26,
   "metadata": {},
   "outputs": [
    {
     "name": "stdout",
     "output_type": "stream",
     "text": [
      "[[1 2 3]\n",
      " [4 5 6]] type = <class 'numpy.matrix'>\n",
      "[[1 2 3]\n",
      " [4 5 6]] type = <class 'numpy.ndarray'>\n"
     ]
    }
   ],
   "source": [
    "mat = np.matrix([[1,2,3],[4,5,6]])\n",
    "print(f\"{mat} type = {type(mat)}\")\n",
    "\n",
    "arr = np.array([[1,2,3],[4,5,6]])\n",
    "print(f\"{arr} type = {type(arr)}\")\n",
    "\n"
   ]
  },
  {
   "cell_type": "code",
   "execution_count": 27,
   "metadata": {},
   "outputs": [
    {
     "name": "stdout",
     "output_type": "stream",
     "text": [
      "[[3 6]\n",
      " [3 6]]\n",
      "[[3 6]\n",
      " [3 6]]\n"
     ]
    }
   ],
   "source": [
    "var1 = np.matrix([[1,2],[1,2]])\n",
    "var2 = np.matrix([[1,2],[1,2]])\n",
    "\n",
    "print(var1*var2)\n",
    "print(var1.dot(var2))"
   ]
  },
  {
   "cell_type": "code",
   "execution_count": 46,
   "metadata": {},
   "outputs": [
    {
     "name": "stdout",
     "output_type": "stream",
     "text": [
      "[[1 6]\n",
      " [2 7]\n",
      " [3 8]]\n",
      "[[1 6]\n",
      " [2 7]\n",
      " [3 8]]\n",
      "[[1 6]\n",
      " [2 7]\n",
      " [3 8]]\n"
     ]
    }
   ],
   "source": [
    "trns = np.matrix([[1,2,3],[6,7,8]])\n",
    "print(np.transpose(trns))\n",
    "print(trns.T)\n",
    "print(np.swapaxes(trns,1,0))"
   ]
  },
  {
   "cell_type": "code",
   "execution_count": 29,
   "metadata": {},
   "outputs": [
    {
     "data": {
      "text/plain": [
       "matrix([[-2. ,  1. ],\n",
       "        [ 1.5, -0.5]])"
      ]
     },
     "execution_count": 29,
     "metadata": {},
     "output_type": "execute_result"
    }
   ],
   "source": [
    "var3 = np.matrix([[1,2],[3,4]])\n",
    "\n",
    "invrs = np.linalg.inv(var3)\n",
    "invrs"
   ]
  },
  {
   "cell_type": "code",
   "execution_count": 30,
   "metadata": {},
   "outputs": [
    {
     "name": "stdout",
     "output_type": "stream",
     "text": [
      "[[ 7 10]\n",
      " [15 22]]\n",
      "[[1 0]\n",
      " [0 1]]\n",
      "[[-2.   1. ]\n",
      " [ 1.5 -0.5]]\n"
     ]
    }
   ],
   "source": [
    "var4 = np.matrix([[1,2],[3,4]])\n",
    "\n",
    "print(np.linalg.matrix_power(var4,2))\n",
    "print(np.linalg.matrix_power(var4,0))\n",
    "print(np.linalg.matrix_power(var4,-1))"
   ]
  },
  {
   "cell_type": "code",
   "execution_count": 31,
   "metadata": {},
   "outputs": [
    {
     "name": "stdout",
     "output_type": "stream",
     "text": [
      "0.0\n"
     ]
    }
   ],
   "source": [
    "var5 = np.matrix([[1,2,3],[3,4,5],[1,2,3]])\n",
    "print(np.linalg.det(var5))"
   ]
  }
 ],
 "metadata": {
  "kernelspec": {
   "display_name": "Python 3",
   "language": "python",
   "name": "python3"
  },
  "language_info": {
   "codemirror_mode": {
    "name": "ipython",
    "version": 3
   },
   "file_extension": ".py",
   "mimetype": "text/x-python",
   "name": "python",
   "nbconvert_exporter": "python",
   "pygments_lexer": "ipython3",
   "version": "3.11.9"
  }
 },
 "nbformat": 4,
 "nbformat_minor": 2
}
